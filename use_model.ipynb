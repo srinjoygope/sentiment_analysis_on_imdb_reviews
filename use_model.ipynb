{
 "cells": [
  {
   "cell_type": "code",
   "execution_count": null,
   "id": "eef1dfc8-6d68-45d2-9d39-3e707880089e",
   "metadata": {},
   "outputs": [
    {
     "name": "stdout",
     "output_type": "stream",
     "text": [
      "Positive Review\n"
     ]
    },
    {
     "name": "stderr",
     "output_type": "stream",
     "text": [
      "<>:42: SyntaxWarning: invalid escape sequence '\\s'\n",
      "<>:42: SyntaxWarning: invalid escape sequence '\\s'\n",
      "C:\\Users\\User\\AppData\\Local\\Temp\\ipykernel_16108\\2004940082.py:42: SyntaxWarning: invalid escape sequence '\\s'\n",
      "  review = \" (This is both a review of the film, and an assertion of Christopher Nolan's filmmaking style) There have been many reviewers and critics alike that have high praise for the film (the visual effects, the acting, the music), but say how it\\'s not Christopher Nolan'\\s best directed film. This is where i personally would have to disagree. Before i get into it, though, i'll talk about Interstellar a bit. Interstellar is truly a sci-fi epic like no other. To compare said film to '2001: A Space Odyssey' isn't just a disservice, but unnecessary. The films are almost nothing alike, simply sharing small plot elements. Also, Stanley Kubrick's vision of Arthur C. Clarke's sci-fi epic wasn't to ponder the philosophical questions that accompanied the story, but to make art, and art is was, and is. With Interstellar, Mr. Nolan set out to make his most personal and emotional film to date about love and time (time being a recurring theme throughout all of Nolan's films). But it's so much more than that too. There are no words to express the epic journey Nolan takes us on in the film, but needless to say, it's tear-jerking and emotional throughout. The acting is top-notch, especially McConaughey, who gives (I would say) his most emotional performance yet. But the actor who stole the show in a few scenes (one in particular, when they're on an alien planet) was David Gyasi as Romilly, one of the astronauts aboard the Endurance, their spacecraft. The musical score from Hans Zimmer is, without a doubt, his best and most influential work to date, helping drive the film's bold and breath-taking vision (the church organ helped significantly). The visual effects are easily the best to date as well, and of the year. To see a black hole created through visual effects in such a way, with pages theoretical equations provided by Kip Thorne (theoretical physicist, of whom's work inspired the film's genesis); what you see in the film is the most realistic depiction of a black hole, and even offered new insight to accretion discs surrounding the anomalies. But even everything else, from the alien planets to the Endurance, the visuals always look real. Then, there's the writing. I would definitely have to say this has some of the best dialogue i've ever heard in a sci-fi movie, and the script continually pours or oozes emotion, keeping the audience tethered to the film. \"\n",
      "[nltk_data] Downloading package stopwords to\n",
      "[nltk_data]     C:\\Users\\User\\AppData\\Roaming\\nltk_data...\n",
      "[nltk_data]   Package stopwords is already up-to-date!\n"
     ]
    }
   ],
   "source": [
    "import numpy as np\n",
    "import pandas as pd\n",
    "import re\n",
    "import nltk\n",
    "from nltk.corpus import stopwords\n",
    "from nltk.stem import PorterStemmer\n",
    "import sklearn\n",
    "\n",
    "import pickle\n",
    "with open('logistic_model.sav', \"rb\") as file:\n",
    "    model = pickle.load(file)\n",
    "    \n",
    "def remove_html_tags(text):\n",
    "    \"\"\"Remove html tags from a string\"\"\"\n",
    "    clean = re.compile('<.*?>')\n",
    "    return re.sub(clean, '', text)\n",
    "\n",
    "def remove_special(text):\n",
    "    x = ''\n",
    "    for s in text:\n",
    "        if s.isalnum():\n",
    "            x = x+s\n",
    "        else:\n",
    "            x = x+' '\n",
    "    return x\n",
    "\n",
    "nltk.download('stopwords')\n",
    "\n",
    "ps = PorterStemmer()\n",
    "def stemming(content):\n",
    "\n",
    "    stemmed_cont=re.sub('[^a-zA-Z]', ' ', content)\n",
    "    stemmed_cont=stemmed_cont.lower()\n",
    "    stemmed_cont=stemmed_cont.split()\n",
    "    stemmed_cont=[ps.stem(word) for word in stemmed_cont if word not in stopwords.words('english')]\n",
    "    stemmed_cont=' '.join(stemmed_cont)\n",
    "\n",
    "    return stemmed_cont\n",
    "\n",
    "# Write your review here within the quotation to know the sentiment of your review\n",
    "\n",
    "review = \"  \"\n",
    "\n",
    "review = remove_html_tags(review)\n",
    "review = remove_special(review)\n",
    "review = stemming(review)\n",
    "\n",
    "with open(\"vectorizer.pkl\", \"rb\") as vectorizer_file:\n",
    "    vectorizer = pickle.load(vectorizer_file)\n",
    "\n",
    "review = [review]\n",
    "data = vectorizer.transform(review)\n",
    "\n",
    "prediction = model.predict(data)\n",
    "\n",
    "print('Positive Review' if prediction==1 else 'Negetive Review')"
   ]
  }
 ],
 "metadata": {
  "kernelspec": {
   "display_name": "Python 3 (ipykernel)",
   "language": "python",
   "name": "python3"
  },
  "language_info": {
   "codemirror_mode": {
    "name": "ipython",
    "version": 3
   },
   "file_extension": ".py",
   "mimetype": "text/x-python",
   "name": "python",
   "nbconvert_exporter": "python",
   "pygments_lexer": "ipython3",
   "version": "3.12.4"
  }
 },
 "nbformat": 4,
 "nbformat_minor": 5
}
